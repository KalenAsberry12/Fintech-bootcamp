{
 "cells": [
  {
   "cell_type": "code",
   "execution_count": 6,
   "metadata": {},
   "outputs": [
    {
     "name": "stdout",
     "output_type": "stream",
     "text": [
      "<function kalen_datastructure at 0x00000275E0872B88>\n"
     ]
    }
   ],
   "source": [
    "def kalen_datastructure(s1, s2):\n",
    "    return len(set(s1 + s2))\n",
    "\n",
    "print(kalen_datastructure)"
   ]
  },
  {
   "cell_type": "code",
   "execution_count": 8,
   "metadata": {},
   "outputs": [
    {
     "name": "stdout",
     "output_type": "stream",
     "text": [
      "Funny\n",
      "Funny\n",
      "Funny\n",
      "Funny\n",
      "Funny\n"
     ]
    }
   ],
   "source": [
    "kalen = \"Funny\"\n",
    "for x in kalen:\n",
    "    print(kalen)"
   ]
  },
  {
   "cell_type": "code",
   "execution_count": 9,
   "metadata": {},
   "outputs": [
    {
     "name": "stdout",
     "output_type": "stream",
     "text": [
      "You got this!\n"
     ]
    }
   ],
   "source": [
    "x = 7\n",
    "y = 23\n",
    "\n",
    "if x * 6 > y:\n",
    "    print(\"You got this!\")\n",
    "else:\n",
    "    print(\"You need some work\")\n"
   ]
  },
  {
   "cell_type": "code",
   "execution_count": 10,
   "metadata": {},
   "outputs": [
    {
     "name": "stdout",
     "output_type": "stream",
     "text": [
      "Go back to the drawing board\n"
     ]
    }
   ],
   "source": [
    "x = 6\n",
    "y = 5\n",
    "if len(\"Kalen\") > x:\n",
    "    print(\"You're cruching it\")\n",
    "else:\n",
    "    print(\"Go back to the drawing board\")"
   ]
  },
  {
   "cell_type": "code",
   "execution_count": 11,
   "metadata": {},
   "outputs": [
    {
     "name": "stdout",
     "output_type": "stream",
     "text": [
      "Apple's original stock price was $198.87\n",
      "Apple's current stock price is $254.32\n",
      "Apple's stock price increase by $27.882536330265996\n"
     ]
    }
   ],
   "source": [
    "original_price = 198.87 \n",
    "current_price = 254.32\n",
    "increase =  current_price - original_price\n",
    "percent_increase = (increase / original_price) * 100\n",
    "\n",
    "print(f\"Apple's original stock price was ${original_price}\")\n",
    "\n",
    "print(f\"Apple's current stock price is ${current_price}\")\n",
    "\n",
    "print(f\"Apple's stock price increase by ${percent_increase}\")"
   ]
  },
  {
   "cell_type": "code",
   "execution_count": null,
   "metadata": {},
   "outputs": [],
   "source": []
  }
 ],
 "metadata": {
  "kernelspec": {
   "display_name": "Python 3",
   "language": "python",
   "name": "python3"
  },
  "language_info": {
   "codemirror_mode": {
    "name": "ipython",
    "version": 3
   },
   "file_extension": ".py",
   "mimetype": "text/x-python",
   "name": "python",
   "nbconvert_exporter": "python",
   "pygments_lexer": "ipython3",
   "version": "3.7.7"
  }
 },
 "nbformat": 4,
 "nbformat_minor": 4
}
