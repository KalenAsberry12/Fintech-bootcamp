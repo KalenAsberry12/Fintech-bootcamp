{
 "cells": [
  {
   "cell_type": "code",
   "execution_count": 1,
   "metadata": {},
   "outputs": [
    {
     "name": "stdout",
     "output_type": "stream",
     "text": [
      "Don't but the Bond\n"
     ]
    }
   ],
   "source": [
    "def calculate_present_value(future_value, discount_rate, compounding_periods, years):\n",
    "# @TODO: Create a function to calculate present value\n",
    "    present_value = future_value / (1 + discount_rate / compounding_periods) ** (compounding_periods * years) \n",
    "    \n",
    "    present_value_formatted = round(present_value, 2)\n",
    "\n",
    "    return present_value_formatted  \n",
    "\n",
    "# Intialize the zero-coupon bond parameters, assume compounding period is equal to 1\n",
    "price = 700\n",
    "future_value = 1000\n",
    "discount_rate = .1\n",
    "compounding_periods = 1\n",
    "years = 5\n",
    "\n",
    "# @TODO: Call the calculate_present_value() function and assign to a variables\n",
    "present_value_bond = calculate_present_value(future_value, discount_rate, compounding_periods, years)\n",
    "# @TODO: Determine if the bond is worth it\n",
    "if present_value_bond > price:\n",
    "    print(\"Buy the Bond\")\n",
    "else:\n",
    "    print(\"Don't but the Bond\")"
   ]
  },
  {
   "cell_type": "code",
   "execution_count": 2,
   "metadata": {},
   "outputs": [],
   "source": [
    "def to_int(txt):\n",
    "\treturn int(txt)\n",
    "\n",
    "def to_str(num):\n",
    "\treturn str(num)"
   ]
  },
  {
   "cell_type": "code",
   "execution_count": null,
   "metadata": {},
   "outputs": [],
   "source": []
  }
 ],
 "metadata": {
  "kernelspec": {
   "display_name": "Python 3",
   "language": "python",
   "name": "python3"
  },
  "language_info": {
   "codemirror_mode": {
    "name": "ipython",
    "version": 3
   },
   "file_extension": ".py",
   "mimetype": "text/x-python",
   "name": "python",
   "nbconvert_exporter": "python",
   "pygments_lexer": "ipython3",
   "version": "3.7.7"
  }
 },
 "nbformat": 4,
 "nbformat_minor": 4
}
