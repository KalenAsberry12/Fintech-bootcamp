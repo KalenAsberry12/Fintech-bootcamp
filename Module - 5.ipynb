{
 "cells": [
  {
   "cell_type": "code",
   "execution_count": 13,
   "metadata": {},
   "outputs": [
    {
     "name": "stdout",
     "output_type": "stream",
     "text": [
      "0\n"
     ]
    }
   ],
   "source": [
    "def calculate_compound_growth_rate(beginning_balance, ending_balance, years):\n",
    "    growth_rate = ((ending_balance / beginning_balance) ** (1 / years))- 1\n",
    "    \n",
    "    return growth_rate\n",
    "beginning_balance = 29000.00\n",
    "ending_balance = 45000.00\n",
    "years = 5\n",
    "\n",
    "year_one_growth = calculate_compound_growth_rate(beginning_balance, ending_balance, years)\n",
    "\n",
    "print(round(year_one_growth))\n"
   ]
  },
  {
   "cell_type": "code",
   "execution_count": 14,
   "metadata": {},
   "outputs": [
    {
     "name": "stdout",
     "output_type": "stream",
     "text": [
      "0.04106382978723411\n"
     ]
    }
   ],
   "source": [
    "\n",
    "beginning_balance = 47000.00\n",
    "ending_balance = 48930.00\n",
    "years = 1\n",
    "\n",
    "year_three_growth = calculate_compound_growth_rate(beginning_balance, ending_balance, years)\n",
    "\n",
    "print(year_three_growth)\n"
   ]
  },
  {
   "cell_type": "code",
   "execution_count": 15,
   "metadata": {},
   "outputs": [
    {
     "name": "stdout",
     "output_type": "stream",
     "text": [
      "0.04444444444444451\n"
     ]
    }
   ],
   "source": [
    "beginning_balance = 45000.00\n",
    "ending_balance = 47000.00\n",
    "years = 1\n",
    "\n",
    "year_two_growth = calculate_compound_growth_rate(beginning_balance, ending_balance, years)\n",
    "\n",
    "print(year_two_growth)\n"
   ]
  },
  {
   "cell_type": "code",
   "execution_count": null,
   "metadata": {},
   "outputs": [],
   "source": []
  }
 ],
 "metadata": {
  "kernelspec": {
   "display_name": "Python 3",
   "language": "python",
   "name": "python3"
  },
  "language_info": {
   "codemirror_mode": {
    "name": "ipython",
    "version": 3
   },
   "file_extension": ".py",
   "mimetype": "text/x-python",
   "name": "python",
   "nbconvert_exporter": "python",
   "pygments_lexer": "ipython3",
   "version": "3.7.7"
  }
 },
 "nbformat": 4,
 "nbformat_minor": 4
}
