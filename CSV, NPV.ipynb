{
 "cells": [
  {
   "cell_type": "code",
   "execution_count": 1,
   "metadata": {},
   "outputs": [
    {
     "name": "stdout",
     "output_type": "stream",
     "text": [
      "['Name', 'Count', 'Revenue']\n",
      "[['Name', 'Count', 'Revenue', 'Average']]\n",
      "['Andrew', '9', '58']\n",
      "['Phil', '8', '377']\n",
      "['Madison', '5', '302']\n",
      "['Sally', '1', '75']\n",
      "['Tyler', '1', '334']\n",
      "['Billy', '7', '146']\n",
      "['Steve', '1', '178']\n",
      "['Madison', '7', '313']\n",
      "['Sarah', '8', '103']\n",
      "['Tim', '5', '344']\n",
      "['Andrew', '5', '349']\n",
      "['Phil', '8', '61']\n",
      "['Madison', '4', '196']\n",
      "['Carl', '1', '374']\n",
      "['Devon', '9', '220']\n",
      "['Megan', '9', '321']\n",
      "['Sarah', '7', '277']\n",
      "['David', '2', '246']\n",
      "['Sally', '9', '198']\n",
      "['Tom', '5', '221']\n",
      "['Andrew', '1', '191']\n",
      "['Paul', '5', '399']\n",
      "['Carl', '1', '300']\n",
      "['Tim', '1', '345']\n",
      "['Madison', '4', '202']\n",
      "['John', '4', '305']\n",
      "['Phil', '6', '249']\n",
      "['Madison', '7', '113']\n",
      "['Sally', '6', '256']\n"
     ]
    }
   ],
   "source": [
    "\"\"\"Student Do: Sales Analysis.\n",
    "\n",
    "This script will use the Pathlib library to set the file path,\n",
    "use the csv library to read in the file, and iterate over each\n",
    "row of the file to calculate customer sales averages.\n",
    "\"\"\"\n",
    "\n",
    "# @TODO: Import the pathlib and csv library\n",
    "from pathlib import Path\n",
    "import csv\n",
    "\n",
    "\n",
    "# @TODO: Set the file path\n",
    "csvpath = Path('../Resources/sales.csv')\n",
    "\n",
    "# Initialize list of records\n",
    "records = []\n",
    "\n",
    "# @TODO: Open the csv file as an object\n",
    "with open(csvpath, 'r') as csvfile:\n",
    "\n",
    "    # @TODO:\n",
    "    # Pass in the csv file to the csv.reader() function\n",
    "    # (with ',' as the delmiter/separator) and return the csvreader object\n",
    "    csvreader = csv.reader(csvfile, delimiter=',')\n",
    "    # @TODO: Read the header row\n",
    "    header = next(csvreader)\n",
    "    # @TODO: Print the header\n",
    "    print(header)\n",
    "\n",
    "    # @TODO: Append the column 'Average' to the header\n",
    "    header.append('Average')\n",
    "    # @TODO: Append the header to the list of records\n",
    "    records.append(header)\n",
    "    print(records)\n",
    "    # @TODO: Read each row of data after the header\n",
    "    for row in csvreader:\n",
    "        # @TODO: Print the row\n",
    "        print(row)\n",
    "        # @TODO:\n",
    "        # Set the 'name', 'count', 'revenue' variables for better\n",
    "        # readability, convert strings to ints for numerical calculations\n",
    "        name = row[0]\n",
    "        count = int(row[1])\n",
    "        revenue = int(row[2])\n",
    "\n",
    "        # @TODO: Calculate the average (round to the nearest 2 decimal places)\n",
    "        average = round(revenue / count, 2)\n",
    "\n",
    "        # @TODO: Append the average to the row\n",
    "        row.append(average)\n",
    "        # @TODO: Append the row to the list of records\n",
    "        records.append(row)\n",
    "\n",
    "# @TODO: Set the path for the output.csv.\n",
    "output_path = Path('../Resources/salesoutput.csv')\n",
    "# @TODO:\n",
    "# Open the output path as a file and pass into the 'csv.writer()' function\n",
    "# Set the delimiter/separater as a ','\n",
    "with open(output_path, 'w') as file:\n",
    "    csv_writer = csv.writer(file, delimiter=',')\n",
    "\n",
    "    # @TODO:\n",
    "    # Loop through the list of records and write every record to the\n",
    "    # output csv file\n",
    "    for record in records:\n",
    "        csv_writer.writerow(record)"
   ]
  },
  {
   "cell_type": "code",
   "execution_count": 4,
   "metadata": {},
   "outputs": [
    {
     "name": "stdout",
     "output_type": "stream",
     "text": [
      "{'conservative': 267.94617853971704, 'neutral': 401.91926780957544, 'aggressive': 285.8923570794341}\n"
     ]
    },
    {
     "name": "stderr",
     "output_type": "stream",
     "text": [
      "C:\\Users\\12144\\anaconda3\\envs\\dev\\lib\\site-packages\\ipykernel_launcher.py:22: DeprecationWarning: numpy.npv is deprecated and will be removed from NumPy 1.20. Use numpy_financial.npv instead (https://pypi.org/project/numpy-financial/).\n",
      "C:\\Users\\12144\\anaconda3\\envs\\dev\\lib\\site-packages\\ipykernel_launcher.py:23: DeprecationWarning: numpy.npv is deprecated and will be removed from NumPy 1.20. Use numpy_financial.npv instead (https://pypi.org/project/numpy-financial/).\n",
      "C:\\Users\\12144\\anaconda3\\envs\\dev\\lib\\site-packages\\ipykernel_launcher.py:24: DeprecationWarning: numpy.npv is deprecated and will be removed from NumPy 1.20. Use numpy_financial.npv instead (https://pypi.org/project/numpy-financial/).\n"
     ]
    }
   ],
   "source": [
    "\"\"\"Student Activity: Financial Analysis using NPV.\n",
    "\n",
    "This script will choose the optimal project scenario to\n",
    "undertake based on max NPV values.\n",
    "\"\"\"\n",
    "\n",
    "# @TODO: Import the NumPy library\n",
    "import numpy\n",
    "\n",
    "# Discount Rate\n",
    "discount_rate = .1\n",
    "\n",
    "# Initial Investment, Cash Flow 1, Cash Flow 2, Cash Flow 3, Cash Flow 4\n",
    "cash_flows_conservative = [-1000, 400, 400, 400, 400]\n",
    "cash_flows_neutral = [-1500, 600, 600, 600, 600]\n",
    "cash_flows_aggressive = [-2250, 800, 800, 800, 800]\n",
    "\n",
    "# @TODO: Initialize dictionary to hold NPV return values\n",
    "npv_dict = {}\n",
    "\n",
    "# @TODO: Calculate the NPV for each scenario\n",
    "npv_dict['conservative'] = numpy.npv(discount_rate, cash_flows_conservative)\n",
    "npv_dict['neutral'] = numpy.npv(discount_rate, cash_flows_neutral)\n",
    "npv_dict['aggressive'] = numpy.npv(discount_rate, cash_flows_aggressive)\n",
    "# @TODO: Initialize variables\n",
    "print(npv_dict)\n",
    "\n",
    "\n"
   ]
  },
  {
   "cell_type": "code",
   "execution_count": null,
   "metadata": {},
   "outputs": [],
   "source": []
  }
 ],
 "metadata": {
  "kernelspec": {
   "display_name": "Python 3",
   "language": "python",
   "name": "python3"
  },
  "language_info": {
   "codemirror_mode": {
    "name": "ipython",
    "version": 3
   },
   "file_extension": ".py",
   "mimetype": "text/x-python",
   "name": "python",
   "nbconvert_exporter": "python",
   "pygments_lexer": "ipython3",
   "version": "3.7.7"
  }
 },
 "nbformat": 4,
 "nbformat_minor": 4
}
